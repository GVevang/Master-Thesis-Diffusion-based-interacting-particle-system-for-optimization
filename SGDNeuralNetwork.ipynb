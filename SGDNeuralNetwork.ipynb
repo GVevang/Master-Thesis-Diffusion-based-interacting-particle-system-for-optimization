{
 "cells": [
  {
   "cell_type": "code",
   "execution_count": 2,
   "id": "e12eed02-d17b-47e1-85fb-24a6558ecf7b",
   "metadata": {},
   "outputs": [],
   "source": [
    "import numpy as np\n",
    "import os\n",
    "import torch\n",
    "from torch import nn\n",
    "from torch.utils.data import DataLoader\n",
    "from torchvision import datasets, transforms\n",
    "from torchvision.transforms import ToTensor\n",
    "from torch.optim import Optimizer\n",
    "from torch.utils.data import Dataset, DataLoader"
   ]
  },
  {
   "cell_type": "code",
   "execution_count": 3,
   "id": "fc9c7d3d-4e62-4a91-975f-d693a4254c71",
   "metadata": {},
   "outputs": [],
   "source": [
    "NoP = 1000#1000 #NumberOfParticles per set\n",
    "\n",
    "Norm = np.random.normal(0, 1, NoP)\n",
    "Normy = np.random.normal(0, 1, NoP)\n",
    "t = np.random.uniform(0,1,NoP)\n",
    "x = np.sqrt(t)*np.cos(4*np.sqrt(t)*np.pi)+0.05*Norm\n",
    "y = np.sqrt(t)*np.sin(4*np.sqrt(t)*np.pi)+0.05*Normy\n",
    "target = np.zeros((1, NoP))\n",
    "\n",
    "Norm2 = np.random.normal(0, 1, NoP)\n",
    "Norm2y = np.random.normal(0, 1, NoP)\n",
    "t2 = np.random.uniform(0,1,NoP)\n",
    "x2 = np.sqrt(t2)*np.cos(4*np.sqrt(t2)*np.pi+np.pi)+0.05*Norm2\n",
    "y2 = np.sqrt(t2)*np.sin(4*np.sqrt(t2)*np.pi+np.pi)+0.05*Norm2y\n",
    "target2 = np.ones((1, NoP))\n",
    "\n",
    "\n",
    "\n",
    "DataSet = np.zeros((3,NoP*2))\n",
    "Data_X = np.hstack((x, x2))\n",
    "Data_Y = np.hstack((y, y2))\n",
    "Data = np.vstack((Data_X,Data_Y))\n",
    "Target = np.hstack((target,target2))\n",
    "DataSet[0:2,:] = Data\n",
    "DataSet[2,:] = Target\n",
    "DataSet = DataSet.T\n",
    "np.random.shuffle(DataSet)\n",
    "\n",
    "Split = round((NoP*2)*0.05)\n",
    "TrainData = DataSet[0:Split,:]\n",
    "TestData = DataSet[Split:,:]\n",
    "\n",
    "\n",
    "class CustomDataset:\n",
    "    def __init__(self, data):\n",
    "        self.data = data\n",
    "\n",
    "    def __len__(self):\n",
    "        return len(self.data)\n",
    "\n",
    "    def __getitem__(self, idx):\n",
    "        features = self.data[idx][:2]  # Extract input features\n",
    "        target = self.data[idx][2]  # Extract target\n",
    "        return features, target\n",
    "\n",
    "TrainDataSet = CustomDataset(TrainData)\n",
    "TestDataSet = CustomDataset(TestData)\n",
    "TrainDataSet = CustomDataset(TrainData.astype(np.float32))\n",
    "TestDataSet = CustomDataset(TestData.astype(np.float32))\n",
    "\n",
    "train_loader = DataLoader(TrainDataSet, batch_size=2, shuffle=True)\n",
    "test_loader = DataLoader(TestDataSet, batch_size=1900, shuffle=False)"
   ]
  },
  {
   "cell_type": "code",
   "execution_count": 3,
   "id": "6ab650cd-b6d1-4883-acb4-4a17722549e1",
   "metadata": {},
   "outputs": [],
   "source": [
    "NoP = 1000#1000 #NumberOfParticles per set\n",
    "DataSet = np.load('NN_Swiss_DataSet.npy')\n",
    "Split = round((NoP*2)*0.05)\n",
    "TrainData = DataSet[0:Split,:]\n",
    "TestData = DataSet[Split:,:]\n",
    "class CustomDataset:\n",
    "    def __init__(self, data):\n",
    "        self.data = data\n",
    "\n",
    "    def __len__(self):\n",
    "        return len(self.data)\n",
    "\n",
    "    def __getitem__(self, idx):\n",
    "        features = self.data[idx][:2]  # Extract input features\n",
    "        target = self.data[idx][2]  # Extract target\n",
    "        return features, target\n",
    "\n",
    "TrainDataSet = CustomDataset(TrainData)\n",
    "TestDataSet = CustomDataset(TestData)\n",
    "\n",
    "TrainDataSet = CustomDataset(TrainData.astype(np.float32))\n",
    "TestDataSet = CustomDataset(TestData.astype(np.float32))\n",
    "\n",
    "train_loader = DataLoader(TrainDataSet, batch_size=2, shuffle=True)\n",
    "test_loader = DataLoader(TestDataSet, batch_size=1900, shuffle=False)"
   ]
  },
  {
   "cell_type": "code",
   "execution_count": 4,
   "id": "dd04b8a4-2724-4605-a0ea-cd3fab47baed",
   "metadata": {},
   "outputs": [],
   "source": [
    "import torch.nn as nn\n",
    " \n",
    "class Wide(nn.Module):\n",
    "    def __init__(self):\n",
    "        super().__init__()\n",
    "        self.hidden = nn.Linear(2, 500)\n",
    "        self.relu = nn.ReLU()\n",
    "        self.output = nn.Linear(500, 1)\n",
    "        self.sigmoid = nn.Sigmoid()\n",
    " \n",
    "    def forward(self, x):\n",
    "        x = self.relu(self.hidden(x))\n",
    "        x = self.sigmoid(self.output(x))\n",
    "        return x\n",
    "    \n",
    "model = Wide()"
   ]
  },
  {
   "cell_type": "code",
   "execution_count": 5,
   "id": "4c88d2ad-9242-445d-b59c-095a8807bafa",
   "metadata": {},
   "outputs": [],
   "source": [
    "optimizer = torch.optim.SGD(model.parameters(), lr=0.05)#, momentum=0.9)\n",
    "loss_fn = nn.BCELoss()"
   ]
  },
  {
   "cell_type": "code",
   "execution_count": 6,
   "id": "3f529e9d-d940-4c1f-99f2-00be7d686e41",
   "metadata": {},
   "outputs": [],
   "source": [
    "def train_one_epoch(epoch_index):#, tb_writer):\n",
    "    running_loss = 0.\n",
    "    last_loss = 0.\n",
    "    avgg_loss = 0.\n",
    "\n",
    "    # Here, we use enumerate(training_loader) instead of\n",
    "    # iter(training_loader) so that we can track the batch\n",
    "    # index and do some intra-epoch reporting\n",
    "    for i, data in enumerate(train_loader):\n",
    "        # Every data instance is an input + label pair\n",
    "        inputs, labels = data\n",
    "        # Zero your gradients for every batch!\n",
    "        optimizer.zero_grad()\n",
    "\n",
    "        # Make predictions for this batch\n",
    "        outputs = model(inputs)\n",
    "        outputs = torch.squeeze(outputs)\n",
    "        \n",
    "        # Compute the loss and its gradients\n",
    "        loss = loss_fn(outputs, labels)\n",
    "        loss.backward()\n",
    "\n",
    "        # Adjust learning weights\n",
    "        optimizer.step()\n",
    "\n",
    "        # Gather data and report\n",
    "        running_loss += loss.item()\n",
    "        \"\"\"\n",
    "        if i % 2 == 1:\n",
    "      \n",
    "            last_loss = running_loss / 2 # loss per batch\n",
    "            avgg_loss += last_loss\n",
    "            print('  batch {} loss: {}'.format(i + 1, last_loss))\n",
    "            #tb_x = epoch_index * len(training_loader) + i + 1\n",
    "            #tb_writer.add_scalar('Loss/train', last_loss, tb_x)\n",
    "            running_loss = 0.\n",
    "        \"\"\"\n",
    "    running_loss/100    \n",
    "    return running_loss"
   ]
  },
  {
   "cell_type": "code",
   "execution_count": 7,
   "id": "85beb2a2-d1c5-4b90-8b00-d37fccfe8191",
   "metadata": {},
   "outputs": [],
   "source": [
    "epoch_number = 0\n",
    "\n",
    " \n",
    "EPOCHS = 5000\n",
    "loss_graph = np.zeros((2,EPOCHS))\n",
    "loss_graph2 = np.zeros((2,EPOCHS))\n",
    "acc_graph = np.zeros((2,EPOCHS))\n",
    "acc2_graph = np.zeros((2,EPOCHS))\n",
    "\n",
    "for epoch in range(EPOCHS):\n",
    "    #print('EPOCH {}:'.format(epoch_number + 1))\n",
    "\n",
    "    # Make sure gradient tracking is on, and do a pass over the data\n",
    "    model.train(True)\n",
    "    avg_loss = train_one_epoch(epoch_number)\n",
    "    loss_graph[0,epoch] = epoch\n",
    "    loss_graph[1,epoch] = avg_loss\n",
    "\n",
    "    running_vloss = 0.0\n",
    "    # Set the model to evaluation mode, disabling dropout and using population\n",
    "    # statistics for batch normalization.\n",
    "    \n",
    "    model.eval()\n",
    "    acc2 = 0\n",
    "    acc2_graph[0,epoch] = epoch\n",
    "    # Disable gradient computation and reduce memory consumption.\n",
    "    with torch.no_grad():\n",
    "        for i, vdata in enumerate(test_loader):\n",
    "            vinputs, vlabels = vdata\n",
    "            voutputs = model(vinputs)\n",
    "            voutputs = torch.squeeze(voutputs)\n",
    "            vloss = loss_fn(voutputs, vlabels)\n",
    "            running_vloss += vloss\n",
    "            predictions2 = (voutputs >= 0.5).int()\n",
    "            acc2 += (predictions2 == vlabels).sum().item()\n",
    "\n",
    "    avg_vloss = running_vloss / (i + 1)\n",
    "    loss_graph2[0,epoch] = epoch\n",
    "    loss_graph2[1,epoch] = avg_vloss\n",
    "    acc2_graph[1,epoch] = acc2/1900\n",
    "    \n",
    "    \n",
    "    running_loss = 0.0\n",
    "    acc_graph[0,epoch] = epoch\n",
    "    acc = 0\n",
    "    model.eval()\n",
    "    with torch.no_grad():\n",
    "        for i, data in enumerate(train_loader):\n",
    "            inputs, labels = data\n",
    "            outputs = model(inputs)\n",
    "            outputs = torch.squeeze(outputs)\n",
    "            loss = loss_fn(outputs, labels)\n",
    "            running_loss += loss\n",
    "            predictions = (outputs >= 0.5).int()\n",
    "            acc += (predictions == labels).sum().item()\n",
    "            \n",
    "    avg_loss = running_loss / (i + 1)\n",
    "    loss_graph[0,epoch] = epoch\n",
    "    loss_graph[1,epoch] = avg_loss        \n",
    "    acc_graph[1,epoch] = acc/100\n",
    "    \n",
    "    \n",
    "    #print('LOSS train {} valid {}'.format(avg_loss, avg_vloss))\n",
    "    #print('LOSS train {} '.format(avg_loss))\n",
    "\n",
    "    # Log the running loss averaged per batch\n",
    "    # for both training and validation\n",
    "    #writer.add_scalars('Training vs. Validation Loss',\n",
    "    #                { 'Training' : avg_loss, 'Validation' : avg_vloss },\n",
    "    #                epoch_number + 1)\n",
    "    #writer.flush()\n",
    "\n",
    "    # Track best performance, and save the model's state\n",
    "    #if avg_vloss < best_vloss:\n",
    "    #    best_vloss = avg_vloss\n",
    "    #    model_path = 'model_{}_{}'.format(timestamp, epoch_number)\n",
    "    #    torch.save(model.state_dict(), model_path)\n",
    "\n",
    "    epoch_number += 1"
   ]
  },
  {
   "cell_type": "code",
   "execution_count": 147,
   "id": "bf87e628-6015-4406-b738-2e594a3097fe",
   "metadata": {},
   "outputs": [
    {
     "data": {
      "text/plain": [
       "0.8605263157894737"
      ]
     },
     "execution_count": 147,
     "metadata": {},
     "output_type": "execute_result"
    }
   ],
   "source": [
    "acc2/1900"
   ]
  },
  {
   "cell_type": "code",
   "execution_count": 17,
   "id": "b6e627a8-a160-44d6-9ffa-84b5d3971ba3",
   "metadata": {},
   "outputs": [
    {
     "name": "stderr",
     "output_type": "stream",
     "text": [
      "The PostScript backend does not support transparency; partially transparent artists will be rendered opaque.\n"
     ]
    },
    {
     "data": {
      "image/png": "[encoded data removed]",
      "text/plain": [
       "<Figure size 640x480 with 1 Axes>"
      ]
     },
     "metadata": {},
     "output_type": "display_data"
    }
   ],
   "source": [
    "import numpy as np\n",
    "import matplotlib.pyplot as plt\n",
    "\n",
    "\"\"\"\n",
    "plt.plot(x_lin,accuracy_graph[:,0,0,0])\n",
    "plt.plot(x_lin,accuracy_graph[:,1,0,0])\n",
    "plt.plot(x_lin,accuracy_graph[:,2,0,0])\n",
    "plt.plot(x_lin,accuracy_graph[:,3,0,0])\n",
    "plt.plot(x_lin,accuracy_graph[:,4,0,0])\n",
    "\"\"\"\n",
    "plt.plot(acc_graph[0,:],acc_graph[1,:],label=r'Train accuracy')\n",
    "plt.plot(acc2_graph[0,:],acc2_graph[1,:],label=r'Test accuracy')\n",
    "\n",
    "#plt.plot(loss_graph[0,:],loss_graph[1,:],label=r'Train loss')\n",
    "#plt.plot(loss_graph2[0,:],loss_graph2[1,:],label=r'Test loss')\n",
    "\n",
    "\n",
    "plt.legend()\n",
    "plt.xlabel('Epoch')\n",
    "#plt.ylabel('Loss')\n",
    "plt.ylabel('Accuracy')\n",
    "plt.grid(True)\n",
    "#plt.savefig('NeuralNetworkFigures/SGD_NN_Acc.eps', format='eps')  \n",
    "plt.show()"
   ]
  },
  {
   "cell_type": "code",
   "execution_count": 18,
   "id": "c1db44a5-5813-4487-908c-765a7a18430a",
   "metadata": {},
   "outputs": [],
   "source": [
    "points = 300\n",
    "x_lin = np.linspace(-1.1, 1.1, num=points)\n",
    "y_lin = np.linspace(-1.1, 1.1, num=points)\n",
    "\n",
    "span = np.zeros((2,points**2))\n",
    "tar = np.zeros((points**2))\n",
    "\n",
    "for i in range(points):   \n",
    "    x = x_lin[i]\n",
    "    for j in range(points):\n",
    "        ind = i*points + j\n",
    "        y = y_lin[j]\n",
    "        span[:,ind] = np.array([x,y])\n",
    "\n",
    "temp = torch.from_numpy(span.astype(np.float32))        \n",
    "\n",
    "for i in range(points**2):\n",
    "    test = model.forward(temp[:,i])\n",
    "    tar[i] = test[0]\n",
    "    \n",
    "    "
   ]
  },
  {
   "cell_type": "code",
   "execution_count": 23,
   "id": "8f2d1c5c-32db-4000-9fcd-2b7e8f4cb4c0",
   "metadata": {},
   "outputs": [
    {
     "data": {
      "image/png": "[encoded data removed]",
      "text/plain": [
       "<Figure size 640x480 with 1 Axes>"
      ]
     },
     "metadata": {},
     "output_type": "display_data"
    }
   ],
   "source": [
    "import numpy as np\n",
    "import matplotlib.pyplot as plt\n",
    "\n",
    "tar_boolean = (tar >= 0.5)\n",
    "plt.plot(span[0,tar_boolean], span[1,tar_boolean],'o', c = 'b') #'#FF0000''b'\n",
    "plt.plot(span[0,~tar_boolean], span[1,~tar_boolean],'o', c = 'orange')#'#0000FF''orange'\n",
    "#plt.plot(x2, y2,'o',color=\"red\")  # Add label to each plot\n",
    "\n",
    "for features, target in TrainDataSet:\n",
    "    if target == 0:\n",
    "        plt.scatter(features[0], features[1], c='#ADD8E6', label='Class 0',zorder=10)#'#ADD8E6'\n",
    "    else:\n",
    "        plt.scatter(features[0], features[1], c = '#FFDAB9', label='Class 1',zorder=10)#'#FFDAB9'\n",
    "\n",
    "#plt.title(f'SGD\\nTrain accuracy = {100}%',fontsize=16)\n",
    "plt.title(f'SGD\\nTest accuracy = {84.5}%',fontsize=16)\n",
    "#plt.savefig('NeuralNetworkFigures/SGD_NN_Test_Overlay.eps', format='eps')    \n",
    "plt.show()"
   ]
  },
  {
   "cell_type": "code",
   "execution_count": 1,
   "id": "719e7dae-76f3-4956-92e3-b24bc05436e7",
   "metadata": {},
   "outputs": [
    {
     "ename": "NameError",
     "evalue": "name 'acc2_graph' is not defined",
     "output_type": "error",
     "traceback": [
      "\u001b[1;31m---------------------------------------------------------------------------\u001b[0m",
      "\u001b[1;31mNameError\u001b[0m                                 Traceback (most recent call last)",
      "Cell \u001b[1;32mIn[1], line 1\u001b[0m\n\u001b[1;32m----> 1\u001b[0m \u001b[43macc2_graph\u001b[49m[\u001b[38;5;241m-\u001b[39m\u001b[38;5;241m1\u001b[39m]\n",
      "\u001b[1;31mNameError\u001b[0m: name 'acc2_graph' is not defined"
     ]
    }
   ],
   "source": [
    "acc2_graph[-1]"
   ]
  },
  {
   "cell_type": "code",
   "execution_count": 19,
   "id": "433eb500-9067-4df1-8ca9-568bcc424ce8",
   "metadata": {},
   "outputs": [
    {
     "data": {
      "text/plain": [
       "array([0.54      , 0.59631579, 0.60789474, ..., 0.84578947, 0.84315789,\n",
       "       0.84526316])"
      ]
     },
     "execution_count": 19,
     "metadata": {},
     "output_type": "execute_result"
    }
   ],
   "source": [
    "acc2_graph[-1]"
   ]
  },
  {
   "cell_type": "code",
   "execution_count": null,
   "id": "1791be37-c8b3-4ab8-9bb9-c202a0020db9",
   "metadata": {},
   "outputs": [],
   "source": []
  }
 ],
 "metadata": {
  "kernelspec": {
   "display_name": "Python 3 (ipykernel)",
   "language": "python",
   "name": "python3"
  },
  "language_info": {
   "codemirror_mode": {
    "name": "ipython",
    "version": 3
   },
   "file_extension": ".py",
   "mimetype": "text/x-python",
   "name": "python",
   "nbconvert_exporter": "python",
   "pygments_lexer": "ipython3",
   "version": "3.9.13"
  }
 },
 "nbformat": 4,
 "nbformat_minor": 5
}
